{
 "cells": [
  {
   "cell_type": "code",
   "execution_count": 25,
   "metadata": {},
   "outputs": [],
   "source": [
    "import pandas as pd\n",
    "import numpy as np\n",
    "import os\n",
    "from datetime import datetime, timedelta\n",
    "\n",
    "# Define the file name\n",
    "file_name = \"RB1_SpecCon_6_9_2023_lkg.csv\"\n",
    "\n",
    "# Read the CSV file\n",
    "data_dir = \"/Users/christina/scc_db/data/\"\n",
    "df = pd.read_csv(os.path.join(data_dir, file_name))\n",
    "\n",
    "# Check if the first row contains \"Plot Title\"\n",
    "if \"Plot Title\" in df.iloc[0].values:\n",
    "    df = df.iloc[1:]\n",
    "\n",
    "# Set the first row as column names\n",
    "df.columns = df.iloc[0]\n",
    "df = df.iloc[1:]\n",
    "\n",
    "# Convert the date column to datetime format\n",
    "df[\"Date Time\"] = pd.to_datetime(df[\"Date Time\"], format=\"%m/%d/%y %H:%M:%S.%f\")\n",
    "\n",
    "# Split the filename by underscores\n",
    "parts = file_name.split(\"_\")\n",
    "\n",
    "# Extract the parts that represent the date\n",
    "date_parts = parts[2:5]\n",
    "\n",
    "# Join the date parts with slashes\n",
    "date_str = \"/\".join(date_parts)\n",
    "\n",
    "# Convert the string to a datetime object\n",
    "end_date = datetime.strptime(date_str, \"%m/%d/%Y\")\n",
    "\n",
    "# Calculate the start date\n",
    "start_date = end_date - timedelta(days=7)\n",
    "\n",
    "# Find the first and last non-zero and non-NaN value in the \"High Range\" column\n",
    "high_range_column = [col for col in df.columns if 'High Range' in col][0]\n",
    "# Replace zero values with NaN\n",
    "df[high_range_column] = df[high_range_column].replace(0, np.nan)\n",
    "\n",
    "# Get the first and last non-NaN index\n",
    "first_index = df[high_range_column].first_valid_index()\n",
    "last_index = df[high_range_column].last_valid_index()\n",
    "# Record the details\n",
    "details = {\n",
    "    \"start_date\": start_date,\n",
    "    \"end_date\": end_date,\n",
    "    \"first_index\": first_index,\n",
    "    \"last_index\": last_index\n",
    "}\n"
   ]
  },
  {
   "cell_type": "code",
   "execution_count": 26,
   "metadata": {},
   "outputs": [
    {
     "data": {
      "text/plain": [
       "{'start_date': datetime.datetime(2023, 6, 2, 0, 0),\n",
       " 'end_date': datetime.datetime(2023, 6, 9, 0, 0),\n",
       " 'first_index': 1,\n",
       " 'last_index': 1025}"
      ]
     },
     "execution_count": 26,
     "metadata": {},
     "output_type": "execute_result"
    }
   ],
   "source": [
    "details"
   ]
  },
  {
   "cell_type": "code",
   "execution_count": 21,
   "metadata": {},
   "outputs": [
    {
     "data": {
      "text/plain": [
       "0\n",
       "Date Time                        2023-06-02 12:10:00\n",
       "High Range (μS/cm)  #20636185                30064.6\n",
       "Temp (°C)  #20636185                           22.22\n",
       "Specific Conductance (μS/cm)             44133.69099\n",
       "Salinity (ppt)                           28.47352247\n",
       "Coupler Detached                                 NaN\n",
       "Coupler Attached                                 NaN\n",
       "Stopped                                          NaN\n",
       "End Of File                                      NaN\n",
       "Name: 8, dtype: object"
      ]
     },
     "execution_count": 21,
     "metadata": {},
     "output_type": "execute_result"
    }
   ],
   "source": [
    "df.iloc[7]"
   ]
  },
  {
   "cell_type": "code",
   "execution_count": null,
   "metadata": {},
   "outputs": [],
   "source": []
  }
 ],
 "metadata": {
  "kernelspec": {
   "display_name": "scc",
   "language": "python",
   "name": "python3"
  },
  "language_info": {
   "codemirror_mode": {
    "name": "ipython",
    "version": 3
   },
   "file_extension": ".py",
   "mimetype": "text/x-python",
   "name": "python",
   "nbconvert_exporter": "python",
   "pygments_lexer": "ipython3",
   "version": "3.12.0"
  }
 },
 "nbformat": 4,
 "nbformat_minor": 2
}
