{
 "cells": [
  {
   "cell_type": "code",
   "execution_count": 1,
   "id": "express-titanium",
   "metadata": {},
   "outputs": [],
   "source": [
    "# Field Calibration data\n",
    "CM1 = 39200.333  # Initial Conductivity (µS/cm)\n",
    "TM1 = 17.8       # Initial Temperature (°C)\n",
    "CM2 = 39182      # Final Conductivity (µS/cm)\n",
    "TM2 = 17.633     # Final Temperature (°C)\n",
    "\n",
    "# Estimate Correction Factor (E(t))\n",
    "# Assuming a linear relationship between initial and final measurements for simplicity\n",
    "# E1 = CM1 / Cs  # Correction factor for the initial measurement\n",
    "# E2 = CM2 / Cs  # Correction factor for the final measurement\n",
    "# E_avg = (E1 + E2) / 2  # Average correction factor\n",
    "# \n",
    "# # Calculate Calibration Corrected Specific Conductance\n",
    "# # Using the formula: Cscal(t) = E(t) * Cs(t) / (E(t) - Cs(t))\n",
    "# # Assuming E(t) is the average correction factor E_avg and Cs(t) is the specific conductance calculated previously\n",
    "# Cscal = E_avg * Cs / (E_avg - Cs)\n",
    "\n",
    "# Cscal, E_avg\n"
   ]
  },
  {
   "cell_type": "code",
   "execution_count": 2,
   "id": "committed-chinese",
   "metadata": {},
   "outputs": [],
   "source": [
    "def calculate_specific_conductance_natural_waters(Ye, T):\n",
    "    Af = -3.17782069713509E-09\n",
    "    Bf = 4.71041480534068E-07\n",
    "    Cf = -0.0000332801277284913\n",
    "    Df = 0.00160578298392272\n",
    "    Ef = -0.0621932177519881\n",
    "    Ff = 1.91861301861503\n",
    "    # 3.2.1. Calculate Specific Conductance at 25 C (Cs) using the first option of Natural Waters correction per EN27888\n",
    "    # F = Af*T^5 + Bf*T^4 + Cf*T^3 + Df*T^2 + Ef*T + Ff\n",
    "    # Cs = Ye*F\n",
    "    F = Af * T**5 + Bf * T**4 + Cf * T**3 + Df * T**2 + Ef * T + Ff\n",
    "    Cs = Ye * F\n",
    "    return Cs"
   ]
  },
  {
   "cell_type": "code",
   "execution_count": 17,
   "id": "insured-creator",
   "metadata": {},
   "outputs": [],
   "source": [
    "def calculate_Rt(CS_t, T):\n",
    "    C0 = 6.766097E-01\n",
    "    C1 = 2.005640E-02\n",
    "    C2 = 1.104259E-04\n",
    "    C3 = -6.969800E-07\n",
    "    C4 = 1.003100E-09\n",
    "\n",
    "    rT = C0 + C1 * T + C2 * T**2 + C3 * T**3 + C4 * T**4\n",
    "    Rt = CS_t / (rT * 42.914)\n",
    "    return Rt\n",
    "\n",
    "def calculate_temp_coefficient(T, S, A, B, C, D, E, F):\n",
    "    a = A + B * T + C * S + D * T**2 + E * S**2 + F * T * S\n",
    "    return a\n",
    "\n",
    "def calculate_salinity(CS_t, T):\n",
    "    a = [0.008, -0.1692, 25.3851, 14.0941, -7.0261, 2.7081]\n",
    "    b = [0.0005, -0.0056, -0.0066, -0.0375, 0.0636, -0.0144]\n",
    "    k = 0.0162\n",
    "    Rt = calculate_Rt(CS_t, T)\n",
    "    first_part = sum([a[i] * (Rt ** (0.5 * i)) for i in range(6)])\n",
    "    second_part = sum([b[i] * (Rt ** (0.5 * i)) for i in range(6)])\n",
    "    salinity = first_part + (T - 15) * second_part / (1 + k * (T - 15))\n",
    "    return salinity\n",
    "\n",
    "def calculate_specific_conductance_seawater(Ye, T):\n",
    "    A = 1.86221444E+00\n",
    "    B = 7.99141780E-03\n",
    "    C = -2.04882760E-03\n",
    "    D = -4.79386353E-05\n",
    "    E = 1.67997158E-05\n",
    "    F = -1.55721008E-05\n",
    "\n",
    "    S = calculate_salinity(Ye, T)\n",
    "\n",
    "    a = calculate_temp_coefficient(T, S, A, B, C, D, E, F)\n",
    "    denominator = 1 - ((25 - T) * a / 100)\n",
    "    if abs(1 - denominator) < 0.001:\n",
    "        Cs = Ye / 0.001\n",
    "    else:\n",
    "        Cs = Ye / denominator\n",
    "    return Cs"
   ]
  },
  {
   "cell_type": "code",
   "execution_count": 4,
   "id": "measured-steel",
   "metadata": {},
   "outputs": [],
   "source": [
    "def calculate_specific_conductance_entered_temp_coeff(Ye, T, a):\n",
    "    Cs = Ye / (1 - ((25 - T) * a / 100))\n",
    "    return Cs\n"
   ]
  },
  {
   "cell_type": "code",
   "execution_count": 5,
   "id": "postal-thomas",
   "metadata": {},
   "outputs": [],
   "source": [
    "def calculate_specific_conductance_Ye(Ye, T, method):\n",
    "    \"\"\"\n",
    "    Calculate specific conductance based on the selected method.\n",
    "    \"\"\"\n",
    "    if method == \"Natural Waters\":\n",
    "        # Implement the Natural Waters correction formula\n",
    "        return calculate_specific_conductance_natural_waters(Ye, T)\n",
    "    elif method == \"Seawater Compensation\":\n",
    "        # Implement the Seawater Compensation formula\n",
    "        pass\n",
    "    elif method == \"Entered Temperature Coefficient\":\n",
    "        # Implement the Entered Temperature Coefficient formula\n",
    "        pass\n",
    "    else:\n",
    "        raise ValueError(\"Invalid method\")\n",
    "\n",
    "    return"
   ]
  },
  {
   "cell_type": "code",
   "execution_count": null,
   "id": "serious-jacket",
   "metadata": {},
   "outputs": [],
   "source": []
  },
  {
   "cell_type": "code",
   "execution_count": 6,
   "id": "global-fetish",
   "metadata": {},
   "outputs": [],
   "source": [
    "def calculate_calibration_correction(CS1, MS1, CS2, MS2, t1, t2, t):\n",
    "    # Ensure resistance values don't cause division by zero\n",
    "    R1 = (1 / CS1 - 1 / MS1) if abs(1 / CS1 - 1 / MS1) >= 1E-11 else 1E-11\n",
    "    R2 = (1 / CS2 - 1 / MS2) if abs(1 / CS2 - 1 / MS2) >= 1E-11 else 1E-11\n",
    "\n",
    "    # Calculate the slope (A) and intercept (B) for linear interpolation\n",
    "    A = (R2 - R1) / (t2 - t1)\n",
    "    B = R1 - (A * t1)\n",
    "\n",
    "    # Calculate resistance at time t\n",
    "    if t < t1:\n",
    "        R_t = R1\n",
    "    elif t > t2:\n",
    "        R_t = R2\n",
    "    else:\n",
    "        R_t = A * t + B\n",
    "\n",
    "    # Ensure R_t doesn't cause division by zero\n",
    "    if abs(R_t) < 1E-11:\n",
    "        R_t = 1E-11\n",
    "\n",
    "    E_t = 1 / R_t\n",
    "\n",
    "    # Calculate the calibration corrected specific conductance\n",
    "    Cscal_t = E_t * CS1 / (E_t - CS1)\n",
    "    return Cscal_t"
   ]
  },
  {
   "cell_type": "code",
   "execution_count": 11,
   "id": "altered-royal",
   "metadata": {},
   "outputs": [],
   "source": [
    "def calculate_salinity(CS_t, T, a, b, k):\n",
    "    Rt = calculate_Rt(CS_t, T)\n",
    "    first_part = sum([a[i] * (Rt ** (0.5 * i)) for i in range(6)])\n",
    "    second_part = sum([b[i] * (Rt ** (0.5 * i)) for i in range(6)])\n",
    "    salinity = first_part + (T - 15) * second_part / (1 + k * (T - 15))\n",
    "    return salinity\n"
   ]
  },
  {
   "cell_type": "code",
   "execution_count": null,
   "id": "driving-tuesday",
   "metadata": {},
   "outputs": [],
   "source": [
    "a = [0.008, -0.1692, 25.3851, 14.0941, -7.0261, 2.7081]\n",
    "b = [0.0005, -0.0056, -0.0066, -0.0375, 0.0636, -0.0144]\n",
    "k = 0.0162\n",
    "salinity = calculate_salinity(Cscal, T, a, b, k)"
   ]
  },
  {
   "cell_type": "code",
   "execution_count": 25,
   "id": "backed-armor",
   "metadata": {},
   "outputs": [],
   "source": [
    "# Example usage\n",
    "Ye = 30697.7  # Example Electrical Conductivity\n",
    "T = 21.81  # Example temperature\n",
    "method = \"Natural Waters\"  # Example method\n",
    "\n",
    "# Calculate specific conductance\n",
    "Cs = calculate_specific_conductance_Ye(Ye, T, method)"
   ]
  },
  {
   "cell_type": "code",
   "execution_count": 26,
   "id": "mediterranean-tragedy",
   "metadata": {},
   "outputs": [],
   "source": [
    "def calculate_MS(CM, TM, S):\n",
    "    \"\"\"\n",
    "    Calculate MS (Measured Specific Conductance) using Seawater Compensation method.\n",
    "\n",
    "    Parameters:\n",
    "    CM (float): Measured Conductivity (uS/cm)\n",
    "    TM (float): Measured Temperature (degrees C)\n",
    "    S (float): Salinity (if known, otherwise an estimated value)\n",
    "\n",
    "    Returns:\n",
    "    float: The calculated MS value\n",
    "    \"\"\"\n",
    "    return calculate_specific_conductance_seawater(CM, TM, S)\n"
   ]
  },
  {
   "cell_type": "code",
   "execution_count": 27,
   "id": "distinct-rhythm",
   "metadata": {},
   "outputs": [
    {
     "ename": "ZeroDivisionError",
     "evalue": "division by zero",
     "output_type": "error",
     "traceback": [
      "\u001b[0;31m---------------------------------------------------------------------------\u001b[0m",
      "\u001b[0;31mZeroDivisionError\u001b[0m                         Traceback (most recent call last)",
      "\u001b[0;32m<ipython-input-27-5168f0dc0e21>\u001b[0m in \u001b[0;36m<module>\u001b[0;34m\u001b[0m\n\u001b[1;32m      4\u001b[0m \u001b[0;34m\u001b[0m\u001b[0m\n\u001b[1;32m      5\u001b[0m \u001b[0;31m# Calculate calibration correction\u001b[0m\u001b[0;34m\u001b[0m\u001b[0;34m\u001b[0m\u001b[0;34m\u001b[0m\u001b[0m\n\u001b[0;32m----> 6\u001b[0;31m \u001b[0mCscal\u001b[0m \u001b[0;34m=\u001b[0m \u001b[0mcalculate_calibration_correction\u001b[0m\u001b[0;34m(\u001b[0m\u001b[0mCS1\u001b[0m\u001b[0;34m,\u001b[0m \u001b[0mMS1\u001b[0m\u001b[0;34m,\u001b[0m \u001b[0mCS2\u001b[0m\u001b[0;34m,\u001b[0m \u001b[0mMS2\u001b[0m\u001b[0;34m,\u001b[0m \u001b[0mt1\u001b[0m\u001b[0;34m,\u001b[0m \u001b[0mt2\u001b[0m\u001b[0;34m,\u001b[0m \u001b[0mt\u001b[0m\u001b[0;34m)\u001b[0m\u001b[0;34m\u001b[0m\u001b[0;34m\u001b[0m\u001b[0m\n\u001b[0m",
      "\u001b[0;32m<ipython-input-23-000f5255d243>\u001b[0m in \u001b[0;36mcalculate_calibration_correction\u001b[0;34m(CS1, MS1, CS2, MS2, t1, t2, t)\u001b[0m\n\u001b[1;32m      1\u001b[0m \u001b[0;32mdef\u001b[0m \u001b[0mcalculate_calibration_correction\u001b[0m\u001b[0;34m(\u001b[0m\u001b[0mCS1\u001b[0m\u001b[0;34m,\u001b[0m \u001b[0mMS1\u001b[0m\u001b[0;34m,\u001b[0m \u001b[0mCS2\u001b[0m\u001b[0;34m,\u001b[0m \u001b[0mMS2\u001b[0m\u001b[0;34m,\u001b[0m \u001b[0mt1\u001b[0m\u001b[0;34m,\u001b[0m \u001b[0mt2\u001b[0m\u001b[0;34m,\u001b[0m \u001b[0mt\u001b[0m\u001b[0;34m)\u001b[0m\u001b[0;34m:\u001b[0m\u001b[0;34m\u001b[0m\u001b[0;34m\u001b[0m\u001b[0m\n\u001b[0;32m----> 2\u001b[0;31m     \u001b[0mR1\u001b[0m \u001b[0;34m=\u001b[0m \u001b[0;34m(\u001b[0m\u001b[0;36m1\u001b[0m \u001b[0;34m/\u001b[0m \u001b[0mCS1\u001b[0m \u001b[0;34m-\u001b[0m \u001b[0;36m1\u001b[0m \u001b[0;34m/\u001b[0m \u001b[0mMS1\u001b[0m\u001b[0;34m)\u001b[0m \u001b[0;32mif\u001b[0m \u001b[0mabs\u001b[0m\u001b[0;34m(\u001b[0m\u001b[0;36m1\u001b[0m \u001b[0;34m/\u001b[0m \u001b[0mCS1\u001b[0m \u001b[0;34m-\u001b[0m \u001b[0;36m1\u001b[0m \u001b[0;34m/\u001b[0m \u001b[0mMS1\u001b[0m\u001b[0;34m)\u001b[0m \u001b[0;34m>=\u001b[0m \u001b[0;36m1E-11\u001b[0m \u001b[0;32melse\u001b[0m \u001b[0;36m1E-11\u001b[0m\u001b[0;34m\u001b[0m\u001b[0;34m\u001b[0m\u001b[0m\n\u001b[0m\u001b[1;32m      3\u001b[0m     \u001b[0mR2\u001b[0m \u001b[0;34m=\u001b[0m \u001b[0;34m(\u001b[0m\u001b[0;36m1\u001b[0m \u001b[0;34m/\u001b[0m \u001b[0mCS2\u001b[0m \u001b[0;34m-\u001b[0m \u001b[0;36m1\u001b[0m \u001b[0;34m/\u001b[0m \u001b[0mMS2\u001b[0m\u001b[0;34m)\u001b[0m \u001b[0;32mif\u001b[0m \u001b[0mabs\u001b[0m\u001b[0;34m(\u001b[0m\u001b[0;36m1\u001b[0m \u001b[0;34m/\u001b[0m \u001b[0mCS2\u001b[0m \u001b[0;34m-\u001b[0m \u001b[0;36m1\u001b[0m \u001b[0;34m/\u001b[0m \u001b[0mMS2\u001b[0m\u001b[0;34m)\u001b[0m \u001b[0;34m>=\u001b[0m \u001b[0;36m1E-11\u001b[0m \u001b[0;32melse\u001b[0m \u001b[0;36m1E-11\u001b[0m\u001b[0;34m\u001b[0m\u001b[0;34m\u001b[0m\u001b[0m\n\u001b[1;32m      4\u001b[0m \u001b[0;34m\u001b[0m\u001b[0m\n\u001b[1;32m      5\u001b[0m     \u001b[0mA\u001b[0m \u001b[0;34m=\u001b[0m \u001b[0;34m(\u001b[0m\u001b[0mR2\u001b[0m \u001b[0;34m-\u001b[0m \u001b[0mR1\u001b[0m\u001b[0;34m)\u001b[0m \u001b[0;34m/\u001b[0m \u001b[0;34m(\u001b[0m\u001b[0mt2\u001b[0m \u001b[0;34m-\u001b[0m \u001b[0mt1\u001b[0m\u001b[0;34m)\u001b[0m\u001b[0;34m\u001b[0m\u001b[0;34m\u001b[0m\u001b[0m\n",
      "\u001b[0;31mZeroDivisionError\u001b[0m: division by zero"
     ]
    }
   ],
   "source": [
    "# Assume calibration points and times\n",
    "CS1, MS1, CS2, MS2 = 0, 0, 0, 0  # Example values\n",
    "t1, t2, t = 0, 0, 0  # Example times\n",
    "\n",
    "# Calculate calibration correction\n",
    "Cscal = calculate_calibration_correction(CS1, MS1, CS2, MS2, t1, t2, t)"
   ]
  },
  {
   "cell_type": "code",
   "execution_count": 28,
   "id": "mysterious-heater",
   "metadata": {},
   "outputs": [
    {
     "ename": "NameError",
     "evalue": "name 'Cscal' is not defined",
     "output_type": "error",
     "traceback": [
      "\u001b[0;31m---------------------------------------------------------------------------\u001b[0m",
      "\u001b[0;31mNameError\u001b[0m                                 Traceback (most recent call last)",
      "\u001b[0;32m<ipython-input-28-72ed9d42eb2d>\u001b[0m in \u001b[0;36m<module>\u001b[0;34m\u001b[0m\n\u001b[1;32m      3\u001b[0m \u001b[0mb\u001b[0m \u001b[0;34m=\u001b[0m \u001b[0;34m[\u001b[0m\u001b[0;36m0.0005\u001b[0m\u001b[0;34m,\u001b[0m \u001b[0;34m-\u001b[0m\u001b[0;36m0.0056\u001b[0m\u001b[0;34m,\u001b[0m \u001b[0;34m-\u001b[0m\u001b[0;36m0.0066\u001b[0m\u001b[0;34m,\u001b[0m \u001b[0;34m-\u001b[0m\u001b[0;36m0.0375\u001b[0m\u001b[0;34m,\u001b[0m \u001b[0;36m0.0636\u001b[0m\u001b[0;34m,\u001b[0m \u001b[0;34m-\u001b[0m\u001b[0;36m0.0144\u001b[0m\u001b[0;34m]\u001b[0m\u001b[0;34m\u001b[0m\u001b[0;34m\u001b[0m\u001b[0m\n\u001b[1;32m      4\u001b[0m \u001b[0mk\u001b[0m \u001b[0;34m=\u001b[0m \u001b[0;36m0.0162\u001b[0m\u001b[0;34m\u001b[0m\u001b[0;34m\u001b[0m\u001b[0m\n\u001b[0;32m----> 5\u001b[0;31m \u001b[0msalinity\u001b[0m \u001b[0;34m=\u001b[0m \u001b[0mcalculate_salinity\u001b[0m\u001b[0;34m(\u001b[0m\u001b[0mCscal\u001b[0m\u001b[0;34m,\u001b[0m \u001b[0mT\u001b[0m\u001b[0;34m,\u001b[0m \u001b[0ma\u001b[0m\u001b[0;34m,\u001b[0m \u001b[0mb\u001b[0m\u001b[0;34m,\u001b[0m \u001b[0mk\u001b[0m\u001b[0;34m)\u001b[0m\u001b[0;34m\u001b[0m\u001b[0;34m\u001b[0m\u001b[0m\n\u001b[0m",
      "\u001b[0;31mNameError\u001b[0m: name 'Cscal' is not defined"
     ]
    }
   ],
   "source": [
    "# Recalculate salinity\n",
    "a = [0.008, -0.1692, 25.3851, 14.0941, -7.0261, 2.7081]\n",
    "b = [0.0005, -0.0056, -0.0066, -0.0375, 0.0636, -0.0144]\n",
    "k = 0.0162\n",
    "salinity = calculate_salinity(Cscal, T, a, b, k)"
   ]
  },
  {
   "cell_type": "code",
   "execution_count": null,
   "id": "nutritional-sampling",
   "metadata": {},
   "outputs": [],
   "source": [
    "def calculate_MS(CM, TM, S):\n",
    "    return calculate_specific_conductance_seawater(CM, TM, S)"
   ]
  },
  {
   "cell_type": "markdown",
   "id": "operating-obligation",
   "metadata": {},
   "source": [
    "# Experiment"
   ]
  },
  {
   "cell_type": "code",
   "execution_count": 7,
   "id": "placed-blair",
   "metadata": {},
   "outputs": [],
   "source": [
    "import pandas as pd\n",
    "\n",
    "# con_data = pd.read_csv('../data/W12_Con_7_6_2023_lkg.csv')\n",
    "con_data = pd.read_csv('/Users/christina/scc_db/data/RB1_ConDL_6_9_2023_AH.csv')"
   ]
  },
  {
   "cell_type": "code",
   "execution_count": 8,
   "id": "improving-hawaii",
   "metadata": {},
   "outputs": [],
   "source": [
    "AC_all = con_data['HighRange']"
   ]
  },
  {
   "cell_type": "code",
   "execution_count": 9,
   "id": "innovative-qualification",
   "metadata": {},
   "outputs": [
    {
     "data": {
      "text/plain": [
       "#                                                          9\n",
       "Date Time, GMT-04:00                    06/02/23 11:20:00 AM\n",
       "LowRange                                             33594.4\n",
       "HighRange                                            30697.7\n",
       "temp                                                   21.81\n",
       "Coupler Detached (LGR S/N: 20636185)                     NaN\n",
       "Coupler Attached (LGR S/N: 20636185)                     NaN\n",
       "Name: 8, dtype: object"
      ]
     },
     "execution_count": 9,
     "metadata": {},
     "output_type": "execute_result"
    }
   ],
   "source": [
    "con_data.iloc[8]"
   ]
  },
  {
   "cell_type": "code",
   "execution_count": 8,
   "id": "western-nursing",
   "metadata": {},
   "outputs": [
    {
     "name": "stdout",
     "output_type": "stream",
     "text": [
      "Salinity: 22.46523436754503\n"
     ]
    },
    {
     "data": {
      "text/plain": [
       "32754.553637234487"
      ]
     },
     "execution_count": 8,
     "metadata": {},
     "output_type": "execute_result"
    }
   ],
   "source": [
    "def calculate_Rt(CS_t, T):\n",
    "    C0 = 6.766097E-01\n",
    "    C1 = 2.005640E-02\n",
    "    C2 = 1.104259E-04\n",
    "    C3 = -6.969800E-07\n",
    "    C4 = 1.003100E-09\n",
    "\n",
    "    rT = C0 + C1 * T + C2 * T**2 + C3 * T**3 + C4 * T**4\n",
    "    Rt = CS_t / (rT * 42.914)\n",
    "    return Rt\n",
    "\n",
    "def calculate_temp_coefficient(T, S, A, B, C, D, E, F):\n",
    "    a = A + B * T + C * S + D * T**2 + E * S**2 + F * T * S\n",
    "    return a\n",
    "\n",
    "def calculate_salinity(CS_t, T):\n",
    "    a = [0.008, -0.1692, 25.3851, 14.0941, -7.0261, 2.7081]\n",
    "    b = [0.0005, -0.0056, -0.0066, -0.0375, 0.0636, -0.0144]\n",
    "    k = 0.0162\n",
    "    Rt = calculate_Rt(CS_t, T)\n",
    "    first_part = sum([a[i] * (Rt ** (0.5 * i)) for i in range(6)])\n",
    "    second_part = sum([b[i] * (Rt ** (0.5 * i)) for i in range(6)])\n",
    "    salinity = first_part + (T - 15) * second_part / (1 + k * (T - 15))\n",
    "    return salinity\n",
    "\n",
    "def calculate_specific_conductance_seawater(Ye, T):\n",
    "    A = 1.86221444E+00\n",
    "    B = 7.99141780E-03\n",
    "    C = -2.04882760E-03\n",
    "    D = -4.79386353E-05\n",
    "    E = 1.67997158E-05\n",
    "    F = -1.55721008E-05\n",
    "\n",
    "    S = calculate_salinity(Ye, T) / 1000000\n",
    "#     S = 29.4197\n",
    "    print(\"Salinity:\", S)\n",
    "\n",
    "    a = calculate_temp_coefficient(T, S, A, B, C, D, E, F)\n",
    "    \n",
    "    denominator = 1 - ((25 - T) * a / 100)\n",
    "    if abs(1 - denominator) < 0.001:\n",
    "        Cs = Ye / 0.001\n",
    "    else:\n",
    "        Cs = Ye / denominator\n",
    "    return Cs\n",
    "\n",
    "calculate_specific_conductance_seawater(30697.7, 21.81)"
   ]
  },
  {
   "cell_type": "code",
   "execution_count": 2,
   "id": "baking-copper",
   "metadata": {},
   "outputs": [
    {
     "name": "stdout",
     "output_type": "stream",
     "text": [
      "Salinity: 22465234.36754503\n"
     ]
    },
    {
     "data": {
      "text/plain": [
       "-0.00011349952975220326"
      ]
     },
     "execution_count": 2,
     "metadata": {},
     "output_type": "execute_result"
    }
   ],
   "source": [
    "calculate_specific_conductance_seawater(30697.7, 21.81)"
   ]
  },
  {
   "cell_type": "code",
   "execution_count": 21,
   "id": "broke-model",
   "metadata": {},
   "outputs": [
    {
     "ename": "TypeError",
     "evalue": "calculate_salinity() takes 2 positional arguments but 5 were given",
     "output_type": "error",
     "traceback": [
      "\u001b[0;31m---------------------------------------------------------------------------\u001b[0m",
      "\u001b[0;31mTypeError\u001b[0m                                 Traceback (most recent call last)",
      "\u001b[0;32m<ipython-input-21-1402cd0b51fc>\u001b[0m in \u001b[0;36m<module>\u001b[0;34m\u001b[0m\n\u001b[1;32m      2\u001b[0m \u001b[0mb\u001b[0m \u001b[0;34m=\u001b[0m \u001b[0;34m[\u001b[0m\u001b[0;36m0.0005\u001b[0m\u001b[0;34m,\u001b[0m \u001b[0;34m-\u001b[0m\u001b[0;36m0.0056\u001b[0m\u001b[0;34m,\u001b[0m \u001b[0;34m-\u001b[0m\u001b[0;36m0.0066\u001b[0m\u001b[0;34m,\u001b[0m \u001b[0;34m-\u001b[0m\u001b[0;36m0.0375\u001b[0m\u001b[0;34m,\u001b[0m \u001b[0;36m0.0636\u001b[0m\u001b[0;34m,\u001b[0m \u001b[0;34m-\u001b[0m\u001b[0;36m0.0144\u001b[0m\u001b[0;34m]\u001b[0m\u001b[0;34m\u001b[0m\u001b[0;34m\u001b[0m\u001b[0m\n\u001b[1;32m      3\u001b[0m \u001b[0mk\u001b[0m \u001b[0;34m=\u001b[0m \u001b[0;36m0.0162\u001b[0m\u001b[0;34m\u001b[0m\u001b[0;34m\u001b[0m\u001b[0m\n\u001b[0;32m----> 4\u001b[0;31m \u001b[0msalinity\u001b[0m \u001b[0;34m=\u001b[0m \u001b[0mcalculate_salinity\u001b[0m\u001b[0;34m(\u001b[0m\u001b[0;36m30697.7\u001b[0m\u001b[0;34m,\u001b[0m \u001b[0;36m21.81\u001b[0m\u001b[0;34m,\u001b[0m \u001b[0ma\u001b[0m\u001b[0;34m,\u001b[0m \u001b[0mb\u001b[0m\u001b[0;34m,\u001b[0m \u001b[0mk\u001b[0m\u001b[0;34m)\u001b[0m\u001b[0;34m\u001b[0m\u001b[0;34m\u001b[0m\u001b[0m\n\u001b[0m",
      "\u001b[0;31mTypeError\u001b[0m: calculate_salinity() takes 2 positional arguments but 5 were given"
     ]
    }
   ],
   "source": [
    "a = [0.008, -0.1692, 25.3851, 14.0941, -7.0261, 2.7081]\n",
    "b = [0.0005, -0.0056, -0.0066, -0.0375, 0.0636, -0.0144]\n",
    "k = 0.0162\n",
    "salinity = calculate_salinity(30697.7, 21.81, a, b, k)"
   ]
  },
  {
   "cell_type": "code",
   "execution_count": 37,
   "id": "otherwise-million",
   "metadata": {},
   "outputs": [
    {
     "data": {
      "text/plain": [
       "22465234.36754503"
      ]
     },
     "execution_count": 37,
     "metadata": {},
     "output_type": "execute_result"
    }
   ],
   "source": [
    "salinity"
   ]
  },
  {
   "cell_type": "code",
   "execution_count": 41,
   "id": "threaded-cooling",
   "metadata": {},
   "outputs": [],
   "source": []
  },
  {
   "cell_type": "code",
   "execution_count": 42,
   "id": "theoretical-kidney",
   "metadata": {},
   "outputs": [
    {
     "data": {
      "text/plain": [
       "29.63001047901926"
      ]
     },
     "execution_count": 42,
     "metadata": {},
     "output_type": "execute_result"
    }
   ],
   "source": [
    "\n",
    "# Measured calibration data\n",
    "CS1 = 39200.333  # Initial Conductivity (µS/cm)\n",
    "t1 = 17.8       # Initial Temperature (°C)\n",
    "CS2 = 39182      # Final Conductivity (µS/cm)\n",
    "t2 = 17.633     # Final Temperature (°C)\n",
    "MS1 = 29.49\n",
    "MS2 = 29.63\n",
    "t = 21.81\n",
    "# Calculate MS1 and MS2\n",
    "# MS1 = calculate_MS(CM1, TM1, S)\n",
    "# MS2 = calculate_MS(CM2, TM2, S)\n",
    "\n",
    "calculate_calibration_correction(CS1, MS1, CS2, MS2, t1, t2, t)"
   ]
  },
  {
   "cell_type": "code",
   "execution_count": 44,
   "id": "french-semiconductor",
   "metadata": {},
   "outputs": [],
   "source": [
    "a = [0.008, -0.1692, 25.3851, 14.0941, -7.0261, 2.7081]\n",
    "b = [0.0005, -0.0056, -0.0066, -0.0375, 0.0636, -0.0144]\n",
    "k = 0.0162\n",
    "salinity = calculate_salinity(29.63001047901926, T, a, b, k)"
   ]
  },
  {
   "cell_type": "code",
   "execution_count": 45,
   "id": "scheduled-reason",
   "metadata": {},
   "outputs": [
    {
     "data": {
      "text/plain": [
       "19.67930518485545"
      ]
     },
     "execution_count": 45,
     "metadata": {},
     "output_type": "execute_result"
    }
   ],
   "source": [
    "salinity"
   ]
  },
  {
   "cell_type": "code",
   "execution_count": null,
   "id": "seasonal-syria",
   "metadata": {},
   "outputs": [],
   "source": []
  }
 ],
 "metadata": {
  "kernelspec": {
   "display_name": "Python 3",
   "language": "python",
   "name": "python3"
  },
  "language_info": {
   "codemirror_mode": {
    "name": "ipython",
    "version": 3
   },
   "file_extension": ".py",
   "mimetype": "text/x-python",
   "name": "python",
   "nbconvert_exporter": "python",
   "pygments_lexer": "ipython3",
   "version": "3.8.5"
  }
 },
 "nbformat": 4,
 "nbformat_minor": 5
}
